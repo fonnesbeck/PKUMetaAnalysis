{
 "metadata": {
  "name": ""
 },
 "nbformat": 3,
 "nbformat_minor": 0,
 "worksheets": [
  {
   "cells": [
    {
     "cell_type": "heading",
     "level": 1,
     "metadata": {},
     "source": [
      "Estimating the probability of IQ impairment from blood phenylalanine for phenylketonuria patients"
     ]
    },
    {
     "cell_type": "markdown",
     "metadata": {},
     "source": [
      "The association of blood phenylalanine levels with IQ was meta-analyzed using a hierarchical mixed-effects model, estimated using Markov chain Monte Carlo methods. In an effort to partially pool the information from the set of studies obtained in the literature search, we specified random effects for the intercept and slope parameters of a linear relationship between blood Phe level and IQ. Importantly, this allowed each study to have its own parameters, each sampled from a conceptual population of parameters. Those with smaller sample sizes were automatically shrunk towards the population means for each parameter, with larger studies influencing the estimate of the population mean more than being influenced by it. In turn, the magnitude of the effect (*i.e.* slope) was specified partly as a function of a fixed effect that accounted for whether measurements of Phe were carried out during the critical period. Hence, the overall model was a hierarchical mixed effects model. Bayesian hierarchical models are easily estimated using Markov chain Monte Carlo (MCMC) methods."
     ]
    },
    {
     "cell_type": "heading",
     "level": 2,
     "metadata": {},
     "source": [
      "Data import and cleanup"
     ]
    },
    {
     "cell_type": "markdown",
     "metadata": {},
     "source": [
      "The following entries show how data were imported and cleaned prior to being input into the model."
     ]
    },
    {
     "cell_type": "code",
     "collapsed": false,
     "input": [
      "import numpy as np\n",
      "import pandas as pd"
     ],
     "language": "python",
     "metadata": {},
     "outputs": [],
     "prompt_number": 1
    },
    {
     "cell_type": "code",
     "collapsed": false,
     "input": [
      "observations = pd.read_csv(\"kq1-2.csv\", index_col=0)"
     ],
     "language": "python",
     "metadata": {},
     "outputs": [],
     "prompt_number": 3
    },
    {
     "cell_type": "code",
     "collapsed": false,
     "input": [
      "observations.head()"
     ],
     "language": "python",
     "metadata": {},
     "outputs": [
      {
       "html": [
        "<div style=\"max-height:1000px;max-width:1500px;overflow:auto;\">\n",
        "<table border=\"1\" class=\"dataframe\">\n",
        "  <thead>\n",
        "    <tr style=\"text-align: right;\">\n",
        "      <th></th>\n",
        "      <th>Paper ID</th>\n",
        "      <th>Group ID</th>\n",
        "      <th>N</th>\n",
        "      <th>Age</th>\n",
        "      <th>Age SD</th>\n",
        "      <th>Age low</th>\n",
        "      <th>Age high</th>\n",
        "      <th>Concurrent</th>\n",
        "      <th>Critical period</th>\n",
        "      <th>Phe</th>\n",
        "      <th>Phe SD</th>\n",
        "      <th>Phe low</th>\n",
        "      <th>Phe high</th>\n",
        "      <th>IQ scale</th>\n",
        "      <th>IQ</th>\n",
        "      <th>IQ SD</th>\n",
        "      <th>IQ low</th>\n",
        "      <th>IQ high</th>\n",
        "      <th>Correlation</th>\n",
        "      <th>p</th>\n",
        "    </tr>\n",
        "    <tr>\n",
        "      <th>Observation ID</th>\n",
        "      <th></th>\n",
        "      <th></th>\n",
        "      <th></th>\n",
        "      <th></th>\n",
        "      <th></th>\n",
        "      <th></th>\n",
        "      <th></th>\n",
        "      <th></th>\n",
        "      <th></th>\n",
        "      <th></th>\n",
        "      <th></th>\n",
        "      <th></th>\n",
        "      <th></th>\n",
        "      <th></th>\n",
        "      <th></th>\n",
        "      <th></th>\n",
        "      <th></th>\n",
        "      <th></th>\n",
        "      <th></th>\n",
        "      <th></th>\n",
        "    </tr>\n",
        "  </thead>\n",
        "  <tbody>\n",
        "    <tr>\n",
        "      <th>1</th>\n",
        "      <td> 54</td>\n",
        "      <td>  1</td>\n",
        "      <td> 46</td>\n",
        "      <td>  7.500000</td>\n",
        "      <td> 3.3</td>\n",
        "      <td> 2.9</td>\n",
        "      <td> 15.5</td>\n",
        "      <td> 0</td>\n",
        "      <td> 1</td>\n",
        "      <td>  312</td>\n",
        "      <td> 132</td>\n",
        "      <td> 125</td>\n",
        "      <td> 852</td>\n",
        "      <td> Weschler</td>\n",
        "      <td> 104</td>\n",
        "      <td> 15</td>\n",
        "      <td> 68</td>\n",
        "      <td> 143</td>\n",
        "      <td>-0.17</td>\n",
        "      <td> 0.38</td>\n",
        "    </tr>\n",
        "    <tr>\n",
        "      <th>2</th>\n",
        "      <td> 80</td>\n",
        "      <td> 12</td>\n",
        "      <td>  1</td>\n",
        "      <td>  7.666667</td>\n",
        "      <td> NaN</td>\n",
        "      <td> NaN</td>\n",
        "      <td>  NaN</td>\n",
        "      <td> 1</td>\n",
        "      <td> 0</td>\n",
        "      <td>  704</td>\n",
        "      <td> NaN</td>\n",
        "      <td> NaN</td>\n",
        "      <td> NaN</td>\n",
        "      <td>    Raven</td>\n",
        "      <td>  91</td>\n",
        "      <td>NaN</td>\n",
        "      <td>NaN</td>\n",
        "      <td> NaN</td>\n",
        "      <td>  NaN</td>\n",
        "      <td>  NaN</td>\n",
        "    </tr>\n",
        "    <tr>\n",
        "      <th>3</th>\n",
        "      <td> 80</td>\n",
        "      <td> 13</td>\n",
        "      <td>  1</td>\n",
        "      <td>  6.583333</td>\n",
        "      <td> NaN</td>\n",
        "      <td> NaN</td>\n",
        "      <td>  NaN</td>\n",
        "      <td> 1</td>\n",
        "      <td> 0</td>\n",
        "      <td> 1418</td>\n",
        "      <td> NaN</td>\n",
        "      <td> NaN</td>\n",
        "      <td> NaN</td>\n",
        "      <td>    Raven</td>\n",
        "      <td> 128</td>\n",
        "      <td>NaN</td>\n",
        "      <td>NaN</td>\n",
        "      <td> NaN</td>\n",
        "      <td>  NaN</td>\n",
        "      <td>  NaN</td>\n",
        "    </tr>\n",
        "    <tr>\n",
        "      <th>4</th>\n",
        "      <td> 80</td>\n",
        "      <td> 14</td>\n",
        "      <td>  1</td>\n",
        "      <td> 17.083333</td>\n",
        "      <td> NaN</td>\n",
        "      <td> NaN</td>\n",
        "      <td>  NaN</td>\n",
        "      <td> 1</td>\n",
        "      <td> 0</td>\n",
        "      <td> 1402</td>\n",
        "      <td> NaN</td>\n",
        "      <td> NaN</td>\n",
        "      <td> NaN</td>\n",
        "      <td>    Raven</td>\n",
        "      <td> 112</td>\n",
        "      <td>NaN</td>\n",
        "      <td>NaN</td>\n",
        "      <td> NaN</td>\n",
        "      <td>  NaN</td>\n",
        "      <td>  NaN</td>\n",
        "    </tr>\n",
        "    <tr>\n",
        "      <th>5</th>\n",
        "      <td> 80</td>\n",
        "      <td> 15</td>\n",
        "      <td>  1</td>\n",
        "      <td> 12.083333</td>\n",
        "      <td> NaN</td>\n",
        "      <td> NaN</td>\n",
        "      <td>  NaN</td>\n",
        "      <td> 1</td>\n",
        "      <td> 0</td>\n",
        "      <td> 1207</td>\n",
        "      <td> NaN</td>\n",
        "      <td> NaN</td>\n",
        "      <td> NaN</td>\n",
        "      <td>    Raven</td>\n",
        "      <td> 120</td>\n",
        "      <td>NaN</td>\n",
        "      <td>NaN</td>\n",
        "      <td> NaN</td>\n",
        "      <td>  NaN</td>\n",
        "      <td>  NaN</td>\n",
        "    </tr>\n",
        "  </tbody>\n",
        "</table>\n",
        "<p>5 rows \u00d7 20 columns</p>\n",
        "</div>"
       ],
       "metadata": {},
       "output_type": "pyout",
       "prompt_number": 4,
       "text": [
        "                Paper ID  Group ID   N        Age  Age SD  Age low  Age high  \\\n",
        "Observation ID                                                                 \n",
        "1                     54         1  46   7.500000     3.3      2.9      15.5   \n",
        "2                     80        12   1   7.666667     NaN      NaN       NaN   \n",
        "3                     80        13   1   6.583333     NaN      NaN       NaN   \n",
        "4                     80        14   1  17.083333     NaN      NaN       NaN   \n",
        "5                     80        15   1  12.083333     NaN      NaN       NaN   \n",
        "\n",
        "                Concurrent  Critical period   Phe  Phe SD  Phe low  Phe high  \\\n",
        "Observation ID                                                                 \n",
        "1                        0                1   312     132      125       852   \n",
        "2                        1                0   704     NaN      NaN       NaN   \n",
        "3                        1                0  1418     NaN      NaN       NaN   \n",
        "4                        1                0  1402     NaN      NaN       NaN   \n",
        "5                        1                0  1207     NaN      NaN       NaN   \n",
        "\n",
        "                IQ scale   IQ  IQ SD  IQ low  IQ high  Correlation     p  \n",
        "Observation ID                                                            \n",
        "1               Weschler  104     15      68      143        -0.17  0.38  \n",
        "2                  Raven   91    NaN     NaN      NaN          NaN   NaN  \n",
        "3                  Raven  128    NaN     NaN      NaN          NaN   NaN  \n",
        "4                  Raven  112    NaN     NaN      NaN          NaN   NaN  \n",
        "5                  Raven  120    NaN     NaN      NaN          NaN   NaN  \n",
        "\n",
        "[5 rows x 20 columns]"
       ]
      }
     ],
     "prompt_number": 4
    },
    {
     "cell_type": "code",
     "collapsed": false,
     "input": [
      "HISTORICAL, CONCURRENT = 0,1"
     ],
     "language": "python",
     "metadata": {},
     "outputs": [],
     "prompt_number": 2
    },
    {
     "cell_type": "markdown",
     "metadata": {},
     "source": [
      "Extract historical observations only"
     ]
    },
    {
     "cell_type": "code",
     "collapsed": false,
     "input": [
      "observations = observations[observations.Concurrent == HISTORICAL]"
     ],
     "language": "python",
     "metadata": {},
     "outputs": [],
     "prompt_number": 5
    },
    {
     "cell_type": "markdown",
     "metadata": {},
     "source": [
      "Get list of set of unique papers"
     ]
    },
    {
     "cell_type": "code",
     "collapsed": false,
     "input": [
      "unique_papers = set(observations['Paper ID'])\n",
      "unique_papers"
     ],
     "language": "python",
     "metadata": {},
     "outputs": [
      {
       "metadata": {},
       "output_type": "pyout",
       "prompt_number": 6,
       "text": [
        "{54, 494, 794, 1054, 1156, 1222, 1420, 1429, 1431, 1432, 1448, 2939}"
       ]
      }
     ],
     "prompt_number": 6
    },
    {
     "cell_type": "markdown",
     "metadata": {},
     "source": [
      "Re-number papers"
     ]
    },
    {
     "cell_type": "code",
     "collapsed": false,
     "input": [
      "paper_lookup = dict(zip(unique_papers, range(len(unique_papers))))\n",
      "paper_id = observations['Paper ID'].replace(paper_lookup)"
     ],
     "language": "python",
     "metadata": {},
     "outputs": [],
     "prompt_number": 7
    },
    {
     "cell_type": "markdown",
     "metadata": {},
     "source": [
      "Unique group ID numbers"
     ]
    },
    {
     "cell_type": "code",
     "collapsed": false,
     "input": [
      "unique_groups = set(observations['Group ID'])"
     ],
     "language": "python",
     "metadata": {},
     "outputs": [],
     "prompt_number": 8
    },
    {
     "cell_type": "code",
     "collapsed": false,
     "input": [
      "group_lookup = dict(zip(unique_groups, range(len(unique_groups))))\n",
      "group_id = observations['Group ID'].replace(group_lookup)"
     ],
     "language": "python",
     "metadata": {},
     "outputs": [],
     "prompt_number": 9
    },
    {
     "cell_type": "markdown",
     "metadata": {},
     "source": [
      "Individual-level data"
     ]
    },
    {
     "cell_type": "code",
     "collapsed": false,
     "input": [
      "indiv = observations.N == 1\n",
      "obs_indiv = observations[indiv]"
     ],
     "language": "python",
     "metadata": {},
     "outputs": [],
     "prompt_number": 10
    },
    {
     "cell_type": "markdown",
     "metadata": {},
     "source": [
      "Group-summarized data"
     ]
    },
    {
     "cell_type": "code",
     "collapsed": false,
     "input": [
      "obs_summ = observations[indiv - True]"
     ],
     "language": "python",
     "metadata": {},
     "outputs": [],
     "prompt_number": 11
    },
    {
     "cell_type": "markdown",
     "metadata": {},
     "source": [
      "Group and paper IDs for individual data"
     ]
    },
    {
     "cell_type": "code",
     "collapsed": false,
     "input": [
      "group_id_indiv = group_id[indiv].values\n",
      "paper_id_indiv = paper_id[indiv].values"
     ],
     "language": "python",
     "metadata": {},
     "outputs": [],
     "prompt_number": 12
    },
    {
     "cell_type": "markdown",
     "metadata": {},
     "source": [
      "Unique paper ID's for individual studies"
     ]
    },
    {
     "cell_type": "code",
     "collapsed": false,
     "input": [
      "unique_papers_indiv = set(paper_id_indiv)"
     ],
     "language": "python",
     "metadata": {},
     "outputs": [],
     "prompt_number": 13
    },
    {
     "cell_type": "markdown",
     "metadata": {},
     "source": [
      "Group and paper IDs for summarized data"
     ]
    },
    {
     "cell_type": "code",
     "collapsed": false,
     "input": [
      "group_id_summ = group_id[indiv-True].values\n",
      "paper_id_summ = paper_id[indiv-True].values"
     ],
     "language": "python",
     "metadata": {},
     "outputs": [],
     "prompt_number": 14
    },
    {
     "cell_type": "markdown",
     "metadata": {},
     "source": [
      "Unique paper IDs for summarized data"
     ]
    },
    {
     "cell_type": "code",
     "collapsed": false,
     "input": [
      "unique_papers_summ = set(paper_id_summ)"
     ],
     "language": "python",
     "metadata": {},
     "outputs": [],
     "prompt_number": 15
    },
    {
     "cell_type": "heading",
     "level": 2,
     "metadata": {},
     "source": [
      "PKU Model"
     ]
    },
    {
     "cell_type": "markdown",
     "metadata": {},
     "source": [
      "We developed two meta-analytic models. The first represents the relationship of blood Phe and IQ when Phe was measured historically with respect to IQ measurement (more than 12 months before IQ measurement), while in the second model, Phe and IQ were measured concurrently (Phe measured within 6 weeks prior to IQ measurement). Note that there were no studies in which Phe measurements were taken 6 weeks to 12 months prior to IQ measurements. We believed it to be unreasonable to combine historical and concurrent measurements in the same model, given the potential for a drastically different relationship between the two variables depending on how far apart they were taken. The example below illustrates the historical measurement model."
     ]
    },
    {
     "cell_type": "code",
     "collapsed": false,
     "input": [
      "from pymc import *"
     ],
     "language": "python",
     "metadata": {},
     "outputs": [],
     "prompt_number": 16
    },
    {
     "cell_type": "markdown",
     "metadata": {},
     "source": [
      "For some studies, Phe was only reported as a range. In these cases, we can impute Phe simulaneously as we fit the rest of the model. Here, we model the missing values as uniform random variables across the reported range."
     ]
    },
    {
     "cell_type": "code",
     "collapsed": false,
     "input": [
      "phe_isnan = obs_indiv.Phe.isnull()\n",
      "phe_low_missing = obs_indiv['Phe low'][phe_isnan]\n",
      "phe_high_missing = obs_indiv['Phe high'][phe_isnan]\n",
      "phe_missing = Uniform('phe_missing', lower=phe_low_missing, upper=phe_high_missing, plot=False)"
     ],
     "language": "python",
     "metadata": {},
     "outputs": [],
     "prompt_number": 17
    },
    {
     "cell_type": "markdown",
     "metadata": {},
     "source": [
      "### Linear model\n",
      "\n",
      "The core of each model is a linear relationship between the expected IQ ($\\mu$) and Phe ($x$):\n",
      "\n",
      "$$\\mu_i = \\beta_{0j[i]} + \\beta_{1i} x_i$$\n",
      "\n",
      "\n",
      "The subscript $j[i]$ denotes parameters for study $j$ corresponding to observation $i$. Hence, both the intercept $\\beta_0$ and slope $\\beta_1$ are allowed to vary by study. Note that by *observation* we refer here not to individuals, but to groups of individuals within a study that share a covariate. For example, within the same study, one group of individuals might have been measured for Phe in the critical period, and others not; these groups were considered separate observations in this analysis. One study reported a range of Phe measurements, rather than a single value, so we imputed values by randomly sampling at every iteration from a uniform distribution across the reported range.\n",
      "\n",
      "\n",
      "The intercept was modeled as a random effect, where each study is assumed to be an exchangeable (\\emph{i.e.} conditionally independent) sample from a population of PKU studies:\n",
      "\n",
      "$$\\beta_{0j[i]} \\sim N(\\mu_{\\beta}, \\tau_{\\beta})$$\n",
      "\n",
      "Thus, $\\mu_{\\beta}$ is the expected (population) mean and $\\tau_{\\beta}$ the associated variance, describing the expected differences within the population. This random effect was included to account for a variety of potential sources of variation in IQ, such as the IQ measurement scale in each study or geographic location."
     ]
    },
    {
     "cell_type": "code",
     "collapsed": false,
     "input": [
      "# Mean intercept\n",
      "mu_int = Normal('mu_int', mu=100, tau=0.01, value=100)\n",
      "\n",
      "\n",
      "# SD of intercepts\n",
      "sigma_int = Uniform('sigma_int', lower=0, upper=100, value=10.)\n",
      "tau_int = sigma_int**-2\n",
      "    \n",
      "# Intecepts by study\n",
      "beta0 = Normal('beta0', mu=mu_int, tau=tau_int, value=np.zeros(len(unique_papers)))"
     ],
     "language": "python",
     "metadata": {},
     "outputs": [],
     "prompt_number": 18
    },
    {
     "cell_type": "markdown",
     "metadata": {},
     "source": [
      "The slope of the relationship included a study-level random effect and a fixed effect corresponding to whether the Phe measurement was taken during the critical period (via indicator function $I$):\n",
      "\n",
      "$$\n",
      "\\begin{aligned}\n",
      "    \\beta_{1i} &= \\alpha_{0i} + \\alpha_1 I(\\textbf{crit}_{j[i]}=1) \\\\\n",
      "    \\alpha_{0i} &= N(\\mu_{\\alpha},\\tau_{\\alpha})\n",
      "\\end{aligned}\n",
      "$$"
     ]
    },
    {
     "cell_type": "code",
     "collapsed": false,
     "input": [
      "# Mean slope\n",
      "mu_slope = Normal('mu_slope', mu=0, tau=0.1, value=-0.01)\n",
      "    \n",
      "# SD of slopes\n",
      "sigma_slope = Uniform('sigma_slope', lower=0, upper=10, value=1.)\n",
      "tau_slope = sigma_slope**-2\n",
      "\n",
      "# Random slopes by study\n",
      "alpha0 = Normal('alpha0', mu=mu_slope, tau=tau_slope, value=np.zeros(len(unique_papers)))\n",
      "alpha1 = Normal('alpha1', mu=0, tau=0.01, value=0.0)"
     ],
     "language": "python",
     "metadata": {},
     "outputs": [],
     "prompt_number": 19
    },
    {
     "cell_type": "markdown",
     "metadata": {},
     "source": [
      "Calculate Phe effect (slope) for each individual"
     ]
    },
    {
     "cell_type": "code",
     "collapsed": false,
     "input": [
      "@deterministic\n",
      "def beta1_indiv(a0=alpha0, a1=alpha1, crit=obs_indiv['Critical period']):\n",
      "    \"\"\"Calculate Phe effect (slope) for each individual\"\"\"\n",
      "    return a0[paper_id_indiv] + a1*crit"
     ],
     "language": "python",
     "metadata": {},
     "outputs": [],
     "prompt_number": 20
    },
    {
     "cell_type": "markdown",
     "metadata": {},
     "source": [
      "Calculate expected IQ"
     ]
    },
    {
     "cell_type": "code",
     "collapsed": false,
     "input": [
      "x = obs_indiv['Phe'].copy()\n",
      "\n",
      "@deterministic\n",
      "def mu_iq(b0=beta0, b1=beta1_indiv, phe_m=phe_missing):\n",
      "\n",
      "    # Insert values for missing phe\n",
      "    x[phe_isnan] = phe_m\n",
      "\n",
      "    return b0[paper_id_indiv] + b1*x.values"
     ],
     "language": "python",
     "metadata": {},
     "outputs": [],
     "prompt_number": 26
    },
    {
     "cell_type": "markdown",
     "metadata": {},
     "source": [
      "Process noise (variance of observations about predicted mean)"
     ]
    },
    {
     "cell_type": "code",
     "collapsed": false,
     "input": [
      "sigma_iq = Uniform('sigma_iq', lower=0, upper=100, value=1)\n",
      "tau_iq = sigma_iq**-2"
     ],
     "language": "python",
     "metadata": {},
     "outputs": [],
     "prompt_number": 27
    },
    {
     "cell_type": "markdown",
     "metadata": {},
     "source": [
      "Finally, the expected value of IQ was used to model the distribution of observed IQ values $IQ_i$, with error described by the variance $\\tau$\n",
      "\n",
      "$$IQ_i \\sim N(\\mu_i,\\tau)$$"
     ]
    },
    {
     "cell_type": "code",
     "collapsed": false,
     "input": [
      "iq_like = Normal('iq_like', mu=mu_iq, tau=tau_iq, value=obs_indiv['IQ'].values, observed=True)"
     ],
     "language": "python",
     "metadata": {},
     "outputs": [],
     "prompt_number": 28
    },
    {
     "cell_type": "markdown",
     "metadata": {},
     "source": [
      "### Inference from studies with summarized data\n",
      "\n",
      "Twelve studies provided only summarized data, with no individual measurements of Phe or IQ. For studies that provided only data summaries, we were unable to directly estimate the quantities as specified above. Instead, we employed reported correlation coefficients to obtain inference regarding the relationship of these variables. Inference regarding the linear relationship (slope) between Phe and IQ can be obtained from the correlation coefficient ($\\rho$), using the Fisher transformation. Here, the hyperbolic function can be used to transform the correlation to a normally-distributed random variable:\n",
      "\n",
      "$$\\text{arctanh}(r_J) \\sim N \\left( \\text{arctanh}(\\rho_j), \\frac{1}{\\sqrt{n_j - 3}} \\right)$$\n",
      "    \n",
      "where $r_j$ is the reported Pearson correlation from study $j$, with a standard error that is solely a function of the corresponding sample size $n$ (for a Spearman correlation, the standard error is the inverse square root of $n-2$). This provides a measure of precision for the reported correlations, which in turn becomes a measure of precision for the slope of the relationship between Phe and IQ. The expected value of the slope was obtained in the model by converting $\\rho$ using the fundamental relationship:\n",
      "\n",
      "$$\\beta_{1j} = \\rho_j \\left( \\frac{s_{yj}}{s_{xj}} \\right)$$\n",
      "    \n",
      "where $s_{xj}$ and $s_{yj}$ are the reported standard deviations of the Phe levels and IQs, respectively, for study $j$, the availability of which was an inclusion criteria for the selected studies."
     ]
    },
    {
     "cell_type": "code",
     "collapsed": false,
     "input": [
      "stdev_phe = obs_summ['Phe SD'].values\n",
      "stdev_iq = obs_summ['IQ SD'].values\n",
      "mean_phe = obs_summ['Phe'].values\n",
      "mean_iq = obs_summ['IQ'].values"
     ],
     "language": "python",
     "metadata": {},
     "outputs": [],
     "prompt_number": 29
    },
    {
     "cell_type": "markdown",
     "metadata": {},
     "source": [
      "Calculate mean of slope for summarized data"
     ]
    },
    {
     "cell_type": "code",
     "collapsed": false,
     "input": [
      "@deterministic(cache_depth=0)\n",
      "def beta1_summ(a0=alpha0, a1=alpha1, crit=obs_summ['Critical period']):\n",
      "    return a0[paper_id_summ] + a1*crit"
     ],
     "language": "python",
     "metadata": {},
     "outputs": [],
     "prompt_number": 30
    },
    {
     "cell_type": "markdown",
     "metadata": {},
     "source": [
      "Likelihood for correlation coefficients of summarized data"
     ]
    },
    {
     "cell_type": "code",
     "collapsed": false,
     "input": [
      "@potential\n",
      "def r_like(b1=beta1_summ):\n",
      "    \n",
      "    # Convert slope to r\n",
      "    rho = b1*stdev_phe/stdev_iq\n",
      "\n",
      "    # Fisher transformation to allow for normality assumption\n",
      "    eps = np.arctan(rho) - np.arctan(obs_summ['Correlation'])\n",
      "    \n",
      "    # Difference should be mean-zero\n",
      "    return normal_like(eps, mu=np.zeros(len(obs_summ['N'])), tau=obs_summ['N']-3)"
     ],
     "language": "python",
     "metadata": {},
     "outputs": [],
     "prompt_number": 31
    },
    {
     "cell_type": "markdown",
     "metadata": {},
     "source": [
      "### Caclulating the probability of IQ dropping below threhsold values\n",
      "\n",
      "In order to evaluate the effect of particular levels of Phe on the likelihood of cognitive impairment, we chose a threshold value of IQ to bound the definition of impairment. We assume that for a standardized measure like IQ, a boundary of one standard deviation below the mean (IQ=85) was a reasonable choice. This threshold value was used to define indicator variables that were set to one if the value of the predicted IQ was below 85 during the current iteration of the MCMC sampler, and zero otherwise. Hence, for each combination of predictors, the total number of ones divided by the number of MCMC iterations represents a posterior predictive probability of observing IQ $< 85$. This corresponds to the integral of the posterior predictive distribution of IQ up to an 85 score. To illustrate the variation of this probability in response to Phe, this probability was calculated for a range of blood Phe levels from 200 to 3000 $\\mu$mol/L, in increments of 200.  This was done for critical period and non-critical period Phe measurement, under both the historical and concurrent measurement models. To assess the performance of the models for a lower threshold value, we also estimated the probability of IQ lower than 70 (two standard deviations below the population mean), characterizing those with intellectual disabilities."
     ]
    },
    {
     "cell_type": "code",
     "collapsed": false,
     "input": [
      "# Ranges of predictors\n",
      "crit_pred, phe_pred = np.transpose([[crit, phe] for crit in [0,1] for phe in np.arange(200,3200, 200)])\n",
      "\n",
      "@deterministic(cache_depth=0)\n",
      "def pred(a1=alpha1, mu_int=mu_int, tau_int=tau_int, mu_slope=mu_slope, tau_slope=tau_slope, tau_iq=tau_iq):\n",
      "    \"\"\"Estimate the probability of IQ<85 for different covariate values\"\"\"\n",
      "    \n",
      "    b0 = rnormal(mu_int, tau_int, size=len(phe_pred))\n",
      "    a0 = rnormal(mu_slope, tau_slope, size=len(phe_pred))\n",
      "\n",
      "    b1 = a0 + a1*crit_pred\n",
      "\n",
      "    iq = rnormal(b0 + b1*phe_pred, tau_iq)\n",
      "\n",
      "    return [iq<v for v in (70,75,80,85)]"
     ],
     "language": "python",
     "metadata": {},
     "outputs": [],
     "prompt_number": 32
    },
    {
     "cell_type": "markdown",
     "metadata": {},
     "source": [
      "Run the model using MCMC (Metropolis-Hastings)"
     ]
    },
    {
     "cell_type": "code",
     "collapsed": false,
     "input": [
      "iterations = 10000\n",
      "burn = 9000\n",
      "\n",
      "M = MCMC(locals())\n",
      "M.sample(iterations, burn)"
     ],
     "language": "python",
     "metadata": {},
     "outputs": [
      {
       "output_type": "stream",
       "stream": "stdout",
       "text": [
        "\r",
        " [-----------------100%-----------------] 10000 of 10000 complete in 80.4 sec"
       ]
      }
     ],
     "prompt_number": 33
    },
    {
     "cell_type": "markdown",
     "metadata": {},
     "source": [
      "Visualization of the estimated probabilities of IQ less than either 85 (darker lines) or 75 (lighter lines) as a function of historical Phe measurement."
     ]
    },
    {
     "cell_type": "code",
     "collapsed": false,
     "input": [
      "%matplotlib inline\n",
      "import matplotlib.pyplot as plt\n",
      "\n",
      "historical = np.sum(M.trace(\"pred\")[:], 0)/float(iterations-burn)\n",
      "\n",
      "x = np.arange(200,3200, 200)\n",
      "\n",
      "colors = ('0.7', 'black')\n",
      "markers = (False, True)\n",
      "\n",
      "for i,p in enumerate((70,85)):\n",
      "    plt.plot(x, historical[i*-1][M.crit_pred==1], color=colors[i], marker='o'*markers[i])\n",
      "    plt.plot(x, historical[i*-1][M.crit_pred==0], color=colors[i], marker='o'*markers[i], linestyle=\"dashed\")\n",
      "plt.xlim(150, 3050)\n",
      "plt.ylim(0,1)\n",
      "\n",
      "plt.xlabel(\"Phe ($\\mu$mol/L)\")\n",
      "plt.ylabel(\"Pr(IQ < threshold)\")\n",
      "plt.text(1400, 0.9, \"critical period\", fontsize=12)\n",
      "plt.text(1700, 0.55, \"non-critical period\", fontsize=12)"
     ],
     "language": "python",
     "metadata": {},
     "outputs": [
      {
       "metadata": {},
       "output_type": "pyout",
       "prompt_number": 36,
       "text": [
        "<matplotlib.text.Text at 0x109b76d50>"
       ]
      },
      {
       "metadata": {},
       "output_type": "display_data",
       "png": "[encoded data removed]",
       "text": [
        "<matplotlib.figure.Figure at 0x109b55710>"
       ]
      }
     ],
     "prompt_number": 36
    }
   ],
   "metadata": {}
  }
 ]
}